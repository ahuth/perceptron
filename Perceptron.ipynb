{
 "cells": [
  {
   "cell_type": "markdown",
   "metadata": {},
   "source": [
    "# Perceptron\n",
    "\n",
    "Let's try one of the simplest tasks we can possibly do to get started with machine learning: learning the AND function."
   ]
  },
  {
   "cell_type": "code",
   "execution_count": 1,
   "metadata": {},
   "outputs": [],
   "source": [
    "import numpy as np"
   ]
  },
  {
   "cell_type": "markdown",
   "metadata": {},
   "source": [
    "Recall that AND is true (or 1 in this case) when two values are true (1), and false (0) otherwise."
   ]
  },
  {
   "cell_type": "code",
   "execution_count": 2,
   "metadata": {},
   "outputs": [],
   "source": [
    "training_inputs = [\n",
    "    np.array([1, 1]),\n",
    "    np.array([1, 0]),\n",
    "    np.array([0, 1]),\n",
    "    np.array([0, 0])\n",
    "]\n",
    "\n",
    "training_labels = [1, 0, 0, 0]"
   ]
  },
  {
   "cell_type": "markdown",
   "metadata": {},
   "source": [
    "To \"train\" we'll take in the training data and return a `weights` vector and a `bias` constant, which will be used to actually make predictions."
   ]
  },
  {
   "cell_type": "code",
   "execution_count": 3,
   "metadata": {},
   "outputs": [],
   "source": [
    "def train(training_inputs, training_labels, epochs=100, learning_rate=0.1):\n",
    "    weights = np.zeros(len(training_inputs[0]))\n",
    "    bias = 0\n",
    "    error = 0\n",
    "    \n",
    "    for n in range(epochs):\n",
    "        for inputs, label in zip(training_inputs, training_labels):\n",
    "            weights, bias = train_single(weights, bias, inputs, label, learning_rate)\n",
    "            \n",
    "        print(f'Epoch: {n}, Weights: {weights}, Bias: {bias}, Error: {error}')\n",
    "    \n",
    "    return weights, bias"
   ]
  },
  {
   "cell_type": "markdown",
   "metadata": {},
   "source": [
    "For each iteration, make a prediction based on the current `weights` and `bias`. Based on how far off we are from the \"right\" answer, we adjust them according to the `learning_rate`."
   ]
  },
  {
   "cell_type": "code",
   "execution_count": 4,
   "metadata": {},
   "outputs": [],
   "source": [
    "def train_single(weights, bias, inputs, label, learning_rate):\n",
    "    prediction = predict(weights, bias, inputs)\n",
    "    error = label - prediction\n",
    "    weights = weights + learning_rate * error * inputs\n",
    "    bias = bias + learning_rate * error\n",
    "    \n",
    "    return weights, bias"
   ]
  },
  {
   "cell_type": "markdown",
   "metadata": {},
   "source": [
    "To make a prediction, we add the `bias` with the dot product of the `inputs` and `weights`. This number is ran through the `activiation` function to turn it into number representing our prediction."
   ]
  },
  {
   "cell_type": "code",
   "execution_count": 5,
   "metadata": {},
   "outputs": [],
   "source": [
    "def predict(weights, bias, inputs):\n",
    "    sum = np.dot(inputs, weights) + bias\n",
    "    return activation(sum)\n",
    "\n",
    "def activation(x):\n",
    "    return 1 if x >= 0 else 0"
   ]
  },
  {
   "cell_type": "markdown",
   "metadata": {},
   "source": [
    "Let's train! 💪"
   ]
  },
  {
   "cell_type": "code",
   "execution_count": 6,
   "metadata": {},
   "outputs": [
    {
     "name": "stdout",
     "output_type": "stream",
     "text": [
      "Epoch: 0, Weights: [-0.1  0. ], Bias: -0.1, Error: 0\n",
      "Epoch: 1, Weights: [-0.1  0. ], Bias: -0.2, Error: 0\n",
      "Epoch: 2, Weights: [0. 0.], Bias: -0.2, Error: 0\n",
      "Epoch: 3, Weights: [0.  0.1], Bias: -0.2, Error: 0\n",
      "Epoch: 4, Weights: [0.  0.1], Bias: -0.30000000000000004, Error: 0\n",
      "Epoch: 5, Weights: [0.1 0.2], Bias: -0.20000000000000004, Error: 0\n",
      "Epoch: 6, Weights: [0.1 0.2], Bias: -0.20000000000000004, Error: 0\n",
      "Epoch: 7, Weights: [0.1 0.2], Bias: -0.20000000000000004, Error: 0\n",
      "Epoch: 8, Weights: [0.1 0.2], Bias: -0.20000000000000004, Error: 0\n",
      "Epoch: 9, Weights: [0.1 0.2], Bias: -0.20000000000000004, Error: 0\n",
      "Epoch: 10, Weights: [0.1 0.2], Bias: -0.20000000000000004, Error: 0\n",
      "Epoch: 11, Weights: [0.1 0.2], Bias: -0.20000000000000004, Error: 0\n",
      "Epoch: 12, Weights: [0.1 0.2], Bias: -0.20000000000000004, Error: 0\n",
      "Epoch: 13, Weights: [0.1 0.2], Bias: -0.20000000000000004, Error: 0\n",
      "Epoch: 14, Weights: [0.1 0.2], Bias: -0.20000000000000004, Error: 0\n",
      "Epoch: 15, Weights: [0.1 0.2], Bias: -0.20000000000000004, Error: 0\n",
      "Epoch: 16, Weights: [0.1 0.2], Bias: -0.20000000000000004, Error: 0\n",
      "Epoch: 17, Weights: [0.1 0.2], Bias: -0.20000000000000004, Error: 0\n",
      "Epoch: 18, Weights: [0.1 0.2], Bias: -0.20000000000000004, Error: 0\n",
      "Epoch: 19, Weights: [0.1 0.2], Bias: -0.20000000000000004, Error: 0\n",
      "Epoch: 20, Weights: [0.1 0.2], Bias: -0.20000000000000004, Error: 0\n",
      "Epoch: 21, Weights: [0.1 0.2], Bias: -0.20000000000000004, Error: 0\n",
      "Epoch: 22, Weights: [0.1 0.2], Bias: -0.20000000000000004, Error: 0\n",
      "Epoch: 23, Weights: [0.1 0.2], Bias: -0.20000000000000004, Error: 0\n",
      "Epoch: 24, Weights: [0.1 0.2], Bias: -0.20000000000000004, Error: 0\n",
      "Epoch: 25, Weights: [0.1 0.2], Bias: -0.20000000000000004, Error: 0\n",
      "Epoch: 26, Weights: [0.1 0.2], Bias: -0.20000000000000004, Error: 0\n",
      "Epoch: 27, Weights: [0.1 0.2], Bias: -0.20000000000000004, Error: 0\n",
      "Epoch: 28, Weights: [0.1 0.2], Bias: -0.20000000000000004, Error: 0\n",
      "Epoch: 29, Weights: [0.1 0.2], Bias: -0.20000000000000004, Error: 0\n",
      "Epoch: 30, Weights: [0.1 0.2], Bias: -0.20000000000000004, Error: 0\n",
      "Epoch: 31, Weights: [0.1 0.2], Bias: -0.20000000000000004, Error: 0\n",
      "Epoch: 32, Weights: [0.1 0.2], Bias: -0.20000000000000004, Error: 0\n",
      "Epoch: 33, Weights: [0.1 0.2], Bias: -0.20000000000000004, Error: 0\n",
      "Epoch: 34, Weights: [0.1 0.2], Bias: -0.20000000000000004, Error: 0\n",
      "Epoch: 35, Weights: [0.1 0.2], Bias: -0.20000000000000004, Error: 0\n",
      "Epoch: 36, Weights: [0.1 0.2], Bias: -0.20000000000000004, Error: 0\n",
      "Epoch: 37, Weights: [0.1 0.2], Bias: -0.20000000000000004, Error: 0\n",
      "Epoch: 38, Weights: [0.1 0.2], Bias: -0.20000000000000004, Error: 0\n",
      "Epoch: 39, Weights: [0.1 0.2], Bias: -0.20000000000000004, Error: 0\n",
      "Epoch: 40, Weights: [0.1 0.2], Bias: -0.20000000000000004, Error: 0\n",
      "Epoch: 41, Weights: [0.1 0.2], Bias: -0.20000000000000004, Error: 0\n",
      "Epoch: 42, Weights: [0.1 0.2], Bias: -0.20000000000000004, Error: 0\n",
      "Epoch: 43, Weights: [0.1 0.2], Bias: -0.20000000000000004, Error: 0\n",
      "Epoch: 44, Weights: [0.1 0.2], Bias: -0.20000000000000004, Error: 0\n",
      "Epoch: 45, Weights: [0.1 0.2], Bias: -0.20000000000000004, Error: 0\n",
      "Epoch: 46, Weights: [0.1 0.2], Bias: -0.20000000000000004, Error: 0\n",
      "Epoch: 47, Weights: [0.1 0.2], Bias: -0.20000000000000004, Error: 0\n",
      "Epoch: 48, Weights: [0.1 0.2], Bias: -0.20000000000000004, Error: 0\n",
      "Epoch: 49, Weights: [0.1 0.2], Bias: -0.20000000000000004, Error: 0\n",
      "Epoch: 50, Weights: [0.1 0.2], Bias: -0.20000000000000004, Error: 0\n",
      "Epoch: 51, Weights: [0.1 0.2], Bias: -0.20000000000000004, Error: 0\n",
      "Epoch: 52, Weights: [0.1 0.2], Bias: -0.20000000000000004, Error: 0\n",
      "Epoch: 53, Weights: [0.1 0.2], Bias: -0.20000000000000004, Error: 0\n",
      "Epoch: 54, Weights: [0.1 0.2], Bias: -0.20000000000000004, Error: 0\n",
      "Epoch: 55, Weights: [0.1 0.2], Bias: -0.20000000000000004, Error: 0\n",
      "Epoch: 56, Weights: [0.1 0.2], Bias: -0.20000000000000004, Error: 0\n",
      "Epoch: 57, Weights: [0.1 0.2], Bias: -0.20000000000000004, Error: 0\n",
      "Epoch: 58, Weights: [0.1 0.2], Bias: -0.20000000000000004, Error: 0\n",
      "Epoch: 59, Weights: [0.1 0.2], Bias: -0.20000000000000004, Error: 0\n",
      "Epoch: 60, Weights: [0.1 0.2], Bias: -0.20000000000000004, Error: 0\n",
      "Epoch: 61, Weights: [0.1 0.2], Bias: -0.20000000000000004, Error: 0\n",
      "Epoch: 62, Weights: [0.1 0.2], Bias: -0.20000000000000004, Error: 0\n",
      "Epoch: 63, Weights: [0.1 0.2], Bias: -0.20000000000000004, Error: 0\n",
      "Epoch: 64, Weights: [0.1 0.2], Bias: -0.20000000000000004, Error: 0\n",
      "Epoch: 65, Weights: [0.1 0.2], Bias: -0.20000000000000004, Error: 0\n",
      "Epoch: 66, Weights: [0.1 0.2], Bias: -0.20000000000000004, Error: 0\n",
      "Epoch: 67, Weights: [0.1 0.2], Bias: -0.20000000000000004, Error: 0\n",
      "Epoch: 68, Weights: [0.1 0.2], Bias: -0.20000000000000004, Error: 0\n",
      "Epoch: 69, Weights: [0.1 0.2], Bias: -0.20000000000000004, Error: 0\n",
      "Epoch: 70, Weights: [0.1 0.2], Bias: -0.20000000000000004, Error: 0\n",
      "Epoch: 71, Weights: [0.1 0.2], Bias: -0.20000000000000004, Error: 0\n",
      "Epoch: 72, Weights: [0.1 0.2], Bias: -0.20000000000000004, Error: 0\n",
      "Epoch: 73, Weights: [0.1 0.2], Bias: -0.20000000000000004, Error: 0\n",
      "Epoch: 74, Weights: [0.1 0.2], Bias: -0.20000000000000004, Error: 0\n",
      "Epoch: 75, Weights: [0.1 0.2], Bias: -0.20000000000000004, Error: 0\n",
      "Epoch: 76, Weights: [0.1 0.2], Bias: -0.20000000000000004, Error: 0\n",
      "Epoch: 77, Weights: [0.1 0.2], Bias: -0.20000000000000004, Error: 0\n",
      "Epoch: 78, Weights: [0.1 0.2], Bias: -0.20000000000000004, Error: 0\n",
      "Epoch: 79, Weights: [0.1 0.2], Bias: -0.20000000000000004, Error: 0\n",
      "Epoch: 80, Weights: [0.1 0.2], Bias: -0.20000000000000004, Error: 0\n",
      "Epoch: 81, Weights: [0.1 0.2], Bias: -0.20000000000000004, Error: 0\n",
      "Epoch: 82, Weights: [0.1 0.2], Bias: -0.20000000000000004, Error: 0\n",
      "Epoch: 83, Weights: [0.1 0.2], Bias: -0.20000000000000004, Error: 0\n",
      "Epoch: 84, Weights: [0.1 0.2], Bias: -0.20000000000000004, Error: 0\n",
      "Epoch: 85, Weights: [0.1 0.2], Bias: -0.20000000000000004, Error: 0\n",
      "Epoch: 86, Weights: [0.1 0.2], Bias: -0.20000000000000004, Error: 0\n",
      "Epoch: 87, Weights: [0.1 0.2], Bias: -0.20000000000000004, Error: 0\n",
      "Epoch: 88, Weights: [0.1 0.2], Bias: -0.20000000000000004, Error: 0\n",
      "Epoch: 89, Weights: [0.1 0.2], Bias: -0.20000000000000004, Error: 0\n",
      "Epoch: 90, Weights: [0.1 0.2], Bias: -0.20000000000000004, Error: 0\n",
      "Epoch: 91, Weights: [0.1 0.2], Bias: -0.20000000000000004, Error: 0\n",
      "Epoch: 92, Weights: [0.1 0.2], Bias: -0.20000000000000004, Error: 0\n",
      "Epoch: 93, Weights: [0.1 0.2], Bias: -0.20000000000000004, Error: 0\n",
      "Epoch: 94, Weights: [0.1 0.2], Bias: -0.20000000000000004, Error: 0\n",
      "Epoch: 95, Weights: [0.1 0.2], Bias: -0.20000000000000004, Error: 0\n",
      "Epoch: 96, Weights: [0.1 0.2], Bias: -0.20000000000000004, Error: 0\n",
      "Epoch: 97, Weights: [0.1 0.2], Bias: -0.20000000000000004, Error: 0\n",
      "Epoch: 98, Weights: [0.1 0.2], Bias: -0.20000000000000004, Error: 0\n",
      "Epoch: 99, Weights: [0.1 0.2], Bias: -0.20000000000000004, Error: 0\n"
     ]
    }
   ],
   "source": [
    "w, b = train(training_inputs, training_labels)"
   ]
  },
  {
   "cell_type": "markdown",
   "metadata": {},
   "source": [
    "And then see how we fared."
   ]
  },
  {
   "cell_type": "code",
   "execution_count": 7,
   "metadata": {},
   "outputs": [
    {
     "name": "stdout",
     "output_type": "stream",
     "text": [
      "1\n",
      "0\n",
      "0\n",
      "0\n"
     ]
    }
   ],
   "source": [
    "print(predict(w, b, np.array([1, 1])))\n",
    "print(predict(w, b, np.array([0, 0])))\n",
    "print(predict(w, b, np.array([0, 1])))\n",
    "print(predict(w, b, np.array([1, 0])))"
   ]
  }
 ],
 "metadata": {
  "kernelspec": {
   "display_name": "Python 3",
   "language": "python",
   "name": "python3"
  },
  "language_info": {
   "codemirror_mode": {
    "name": "ipython",
    "version": 3
   },
   "file_extension": ".py",
   "mimetype": "text/x-python",
   "name": "python",
   "nbconvert_exporter": "python",
   "pygments_lexer": "ipython3",
   "version": "3.7.2"
  }
 },
 "nbformat": 4,
 "nbformat_minor": 2
}
