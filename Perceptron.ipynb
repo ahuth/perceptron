{
 "cells": [
  {
   "cell_type": "markdown",
   "metadata": {},
   "source": [
    "# Perceptron"
   ]
  },
  {
   "cell_type": "code",
   "execution_count": 1,
   "metadata": {},
   "outputs": [],
   "source": [
    "import numpy as np"
   ]
  },
  {
   "cell_type": "code",
   "execution_count": 2,
   "metadata": {},
   "outputs": [],
   "source": [
    "training_inputs = [\n",
    "    np.array([1, 1]),\n",
    "    np.array([1, 0]),\n",
    "    np.array([0, 1]),\n",
    "    np.array([0, 0])\n",
    "]\n",
    "\n",
    "training_labels = [1, 0, 0, 0]"
   ]
  },
  {
   "cell_type": "code",
   "execution_count": 3,
   "metadata": {},
   "outputs": [],
   "source": [
    "def activation(x):\n",
    "    return 1 if x >= 0 else 0"
   ]
  },
  {
   "cell_type": "code",
   "execution_count": 4,
   "metadata": {},
   "outputs": [],
   "source": [
    "def predict(weights, bias, inputs):\n",
    "    sum = np.dot(inputs, weights) + bias\n",
    "    return activation(sum)"
   ]
  },
  {
   "cell_type": "code",
   "execution_count": 5,
   "metadata": {},
   "outputs": [],
   "source": [
    "def train(training_inputs, training_labels, epochs=100, learning_rate=0.1):\n",
    "    weights = np.zeros(len(training_inputs[0]))\n",
    "    bias = 0\n",
    "    \n",
    "    for _ in range(epochs):\n",
    "        for inputs, label in zip(training_inputs, training_labels):\n",
    "            weights, bias = train_single(weights, bias, inputs, label, learning_rate)\n",
    "    \n",
    "    return weights, bias"
   ]
  },
  {
   "cell_type": "code",
   "execution_count": 6,
   "metadata": {},
   "outputs": [],
   "source": [
    "def train_single(weights, bias, inputs, label, learning_rate):\n",
    "    prediction = predict(weights, bias, inputs)\n",
    "    error = label - prediction\n",
    "    weights = weights + learning_rate * error * inputs\n",
    "    bias = bias + learning_rate * error\n",
    "    \n",
    "    return weights, bias"
   ]
  },
  {
   "cell_type": "code",
   "execution_count": 7,
   "metadata": {},
   "outputs": [
    {
     "name": "stdout",
     "output_type": "stream",
     "text": [
      "[0.1 0.2]\n",
      "-0.20000000000000004\n"
     ]
    }
   ],
   "source": [
    "w, b = train(training_inputs, training_labels)\n",
    "print(w)\n",
    "print(b)"
   ]
  },
  {
   "cell_type": "code",
   "execution_count": 8,
   "metadata": {},
   "outputs": [
    {
     "name": "stdout",
     "output_type": "stream",
     "text": [
      "1\n",
      "0\n",
      "0\n",
      "0\n"
     ]
    }
   ],
   "source": [
    "print(predict(w, b, np.array([1, 1])))\n",
    "print(predict(w, b, np.array([0, 0])))\n",
    "print(predict(w, b, np.array([0, 1])))\n",
    "print(predict(w, b, np.array([1, 0])))"
   ]
  }
 ],
 "metadata": {
  "kernelspec": {
   "display_name": "Python 3",
   "language": "python",
   "name": "python3"
  },
  "language_info": {
   "codemirror_mode": {
    "name": "ipython",
    "version": 3
   },
   "file_extension": ".py",
   "mimetype": "text/x-python",
   "name": "python",
   "nbconvert_exporter": "python",
   "pygments_lexer": "ipython3",
   "version": "3.7.2"
  }
 },
 "nbformat": 4,
 "nbformat_minor": 2
}
