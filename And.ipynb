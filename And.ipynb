{
 "cells": [
  {
   "cell_type": "markdown",
   "metadata": {},
   "source": [
    "# Or\n",
    "\n",
    "Let's try one of the simplest tasks we can possibly do to get started with machine learning: learning the AND function."
   ]
  },
  {
   "cell_type": "code",
   "execution_count": 1,
   "metadata": {},
   "outputs": [],
   "source": [
    "import numpy as np"
   ]
  },
  {
   "cell_type": "markdown",
   "metadata": {},
   "source": [
    "Recall that AND is true (or 1 in this case) when two values are true (1), and false (0) otherwise."
   ]
  },
  {
   "cell_type": "code",
   "execution_count": 2,
   "metadata": {},
   "outputs": [],
   "source": [
    "training_inputs = [\n",
    "    np.array([1, 1]),\n",
    "    np.array([1, 0]),\n",
    "    np.array([0, 1]),\n",
    "    np.array([0, 0])\n",
    "]\n",
    "\n",
    "training_labels = [1, 0, 0, 0]"
   ]
  },
  {
   "cell_type": "markdown",
   "metadata": {},
   "source": [
    "To \"train\" we'll take in the training data and return a `weights` vector and a `bias` constant, which will be used to actually make predictions."
   ]
  },
  {
   "cell_type": "code",
   "execution_count": 3,
   "metadata": {},
   "outputs": [],
   "source": [
    "def train(training_inputs, training_labels, epochs=100, learning_rate=0.1):\n",
    "    weights = np.zeros(len(training_inputs[0]))\n",
    "    bias = 0\n",
    "    \n",
    "    for n in range(epochs):\n",
    "        for inputs, label in zip(training_inputs, training_labels):\n",
    "            weights, bias = train_single(weights, bias, inputs, label, learning_rate)\n",
    "            \n",
    "        print(f'Epoch: {n}, Weights: {weights}, Bias: {bias}')\n",
    "    \n",
    "    return weights, bias"
   ]
  },
  {
   "cell_type": "markdown",
   "metadata": {},
   "source": [
    "For each iteration, make a prediction based on the current `weights` and `bias`. Based on how far off we are from the \"right\" answer, we adjust them according to the `learning_rate`."
   ]
  },
  {
   "cell_type": "code",
   "execution_count": 4,
   "metadata": {},
   "outputs": [],
   "source": [
    "def train_single(weights, bias, inputs, label, learning_rate):\n",
    "    prediction = predict(weights, bias, inputs)\n",
    "    error = label - prediction\n",
    "    weights = weights + learning_rate * error * inputs\n",
    "    bias = bias + learning_rate * error\n",
    "    \n",
    "    return weights, bias"
   ]
  },
  {
   "cell_type": "markdown",
   "metadata": {},
   "source": [
    "To make a prediction, we add the `bias` with the dot product of the `inputs` and `weights`. This number is ran through the `activation` function to turn it into number representing our prediction."
   ]
  },
  {
   "cell_type": "code",
   "execution_count": 5,
   "metadata": {},
   "outputs": [],
   "source": [
    "def predict(weights, bias, inputs):\n",
    "    sum = np.dot(inputs, weights) + bias\n",
    "    return activation(sum)\n",
    "\n",
    "def activation(x):\n",
    "    return 1 if x >= 0 else 0"
   ]
  },
  {
   "cell_type": "markdown",
   "metadata": {},
   "source": [
    "Let's train! 💪"
   ]
  },
  {
   "cell_type": "code",
   "execution_count": 6,
   "metadata": {},
   "outputs": [
    {
     "name": "stdout",
     "output_type": "stream",
     "text": [
      "Epoch: 0, Weights: [-0.1  0. ], Bias: -0.1\n",
      "Epoch: 1, Weights: [-0.1  0. ], Bias: -0.2\n",
      "Epoch: 2, Weights: [0. 0.], Bias: -0.2\n",
      "Epoch: 3, Weights: [0.  0.1], Bias: -0.2\n",
      "Epoch: 4, Weights: [0.  0.1], Bias: -0.30000000000000004\n",
      "Epoch: 5, Weights: [0.1 0.2], Bias: -0.20000000000000004\n",
      "Epoch: 6, Weights: [0.1 0.2], Bias: -0.20000000000000004\n",
      "Epoch: 7, Weights: [0.1 0.2], Bias: -0.20000000000000004\n",
      "Epoch: 8, Weights: [0.1 0.2], Bias: -0.20000000000000004\n",
      "Epoch: 9, Weights: [0.1 0.2], Bias: -0.20000000000000004\n"
     ]
    }
   ],
   "source": [
    "w, b = train(training_inputs, training_labels, epochs=10)"
   ]
  },
  {
   "cell_type": "markdown",
   "metadata": {},
   "source": [
    "And then see how we fared."
   ]
  },
  {
   "cell_type": "code",
   "execution_count": 7,
   "metadata": {},
   "outputs": [
    {
     "name": "stdout",
     "output_type": "stream",
     "text": [
      "1\n",
      "0\n",
      "0\n",
      "0\n"
     ]
    }
   ],
   "source": [
    "print(predict(w, b, np.array([1, 1])))\n",
    "print(predict(w, b, np.array([0, 0])))\n",
    "print(predict(w, b, np.array([0, 1])))\n",
    "print(predict(w, b, np.array([1, 0])))"
   ]
  }
 ],
 "metadata": {
  "kernelspec": {
   "display_name": "Python 3",
   "language": "python",
   "name": "python3"
  },
  "language_info": {
   "codemirror_mode": {
    "name": "ipython",
    "version": 3
   },
   "file_extension": ".py",
   "mimetype": "text/x-python",
   "name": "python",
   "nbconvert_exporter": "python",
   "pygments_lexer": "ipython3",
   "version": "3.7.2"
  }
 },
 "nbformat": 4,
 "nbformat_minor": 2
}
