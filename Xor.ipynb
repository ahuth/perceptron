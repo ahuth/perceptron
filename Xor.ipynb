{
 "cells": [
  {
   "cell_type": "markdown",
   "metadata": {},
   "source": [
    "# Xor\n",
    "\n",
    "Now let's try a slightly harder example - the XOR function. Unlike AND or OR, it cannot be solved via a single perceptron, because it is not \"linearly separable\"."
   ]
  },
  {
   "cell_type": "code",
   "execution_count": 1,
   "metadata": {},
   "outputs": [],
   "source": [
    "import numpy as np\n",
    "import matplotlib.pyplot as plt\n",
    "\n",
    "from typing import List\n",
    "\n",
    "%matplotlib inline"
   ]
  },
  {
   "cell_type": "markdown",
   "metadata": {},
   "source": [
    "Xor is true (1 in this case) only when one of the inputs is true. If both or neither is true, then the result is false (or 0)."
   ]
  },
  {
   "cell_type": "code",
   "execution_count": 2,
   "metadata": {},
   "outputs": [],
   "source": [
    "training_inputs = np.array([\n",
    "    np.array([1, 1]),\n",
    "    np.array([1, 0]),\n",
    "    np.array([0, 1]),\n",
    "    np.array([0, 0])\n",
    "])\n",
    "\n",
    "training_labels = np.array([0, 1, 1, 0])"
   ]
  },
  {
   "cell_type": "code",
   "execution_count": 3,
   "metadata": {},
   "outputs": [],
   "source": [
    "def initialize_params(layer_dimensions: List[int]):\n",
    "    parameters = {}\n",
    "    numLayers = len(layer_dimensions)\n",
    "    \n",
    "    for l in range(1, numLayers):\n",
    "        # Initialize weights to a small random number.\n",
    "        parameters['W' + str(l)] = np.random.randn(layer_dimensions[l], layer_dimensions[l-1]) * 0.01\n",
    "        # Initialize biases to zero.\n",
    "        parameters['b' + str(l)] = np.zeros((layer_dimensions[l], 1))\n",
    "        \n",
    "        # Ensure that everything looks right.\n",
    "        assert(parameters['W' + str(l)].shape == (layer_dimensions[l], layer_dimensions[l - 1]))\n",
    "        assert(parameters['b' + str(l)].shape == (layer_dimensions[l], 1))\n",
    "    \n",
    "    return parameters"
   ]
  },
  {
   "cell_type": "code",
   "execution_count": 4,
   "metadata": {},
   "outputs": [],
   "source": [
    "def linear_forward(A, W, b):\n",
    "    \"\"\"\n",
    "    The \"linear\" part of a layer's forward propagation.\n",
    "    \n",
    "    Arguments::\n",
    "    A -- Activations from the previous layer.\n",
    "    W -- Weights matrix.\n",
    "    b -- Bias vector.\n",
    "    \"\"\"\n",
    "    \n",
    "    # Input to the activation function.\n",
    "    Z = np.dot(W, A) + b\n",
    "    # Values we'll need when doing backward propagation.\n",
    "    cache = (A, W, b)\n",
    "    \n",
    "    assert(Z.shape == (W.shape[0], A.shape[1]))\n",
    "    \n",
    "    return Z, cache"
   ]
  },
  {
   "cell_type": "code",
   "execution_count": 5,
   "metadata": {},
   "outputs": [],
   "source": [
    "def sigmoid(Z):\n",
    "    A = 1 / (1 + np.exp(-Z))\n",
    "    return A, Z\n",
    "\n",
    "def relu(Z):\n",
    "    A = np.maximum(0, Z)\n",
    "    return A, Z"
   ]
  },
  {
   "cell_type": "code",
   "execution_count": 6,
   "metadata": {},
   "outputs": [],
   "source": [
    "def linear_activation_forward(A_prev, W, b, activation):\n",
    "    Z, linear_cache = linear_forward(A_prev, W, b)\n",
    "    A, activation_cache = activation(Z)\n",
    "    \n",
    "    assert(A.shape == (W.shape[0], A_prev.shape[1]))\n",
    "    \n",
    "    cache = (linear_cache, activation_cache)\n",
    "    return A, cache"
   ]
  },
  {
   "cell_type": "code",
   "execution_count": 7,
   "metadata": {},
   "outputs": [],
   "source": [
    "def model_forward(X, parameters):\n",
    "    \"\"\"\n",
    "    Forward propagation for each layer. Each layer is Linear->Relu, except\n",
    "    for the output layer, which is Liner->Sigmoid.\n",
    "    \"\"\"\n",
    "    \n",
    "    caches = []\n",
    "    # The initial \"previous\" layer is the inputs.\n",
    "    A = X\n",
    "    # The number of layers. Note that we divide by because the `parameters` contains\n",
    "    # weights AND biases for each layer.\n",
    "    numLayers = len(parameters) // 2\n",
    "    \n",
    "    # Relu layers\n",
    "    for l in range(1, numLayers):\n",
    "        A_prev = A\n",
    "        W = parameters['W' + str(l)]\n",
    "        b = parameters['b' + str(l)]\n",
    "        A, cache = linear_activation_forward(A_prev, W, b, relu)\n",
    "        caches.append(cache)\n",
    "        \n",
    "    # Sigmoid layer\n",
    "    W = parameters['W' + str(numLayers)]\n",
    "    b = parameters['b' + str(numLayers)]\n",
    "    Yhat, cache = linear_activation_forward(A, W, b, sigmoid)\n",
    "    caches.append(cache)\n",
    "    \n",
    "    assert(Yhat.shape == (1, X.shape[1]))\n",
    "    \n",
    "    return Yhat, caches"
   ]
  },
  {
   "cell_type": "code",
   "execution_count": 8,
   "metadata": {},
   "outputs": [],
   "source": [
    "def compute_cost(Yhat, Y):\n",
    "    \"\"\"\n",
    "    Compute the cross-entropy cost.\n",
    "    \n",
    "    Arguments:\n",
    "    Yhat -- Probability vector corresponding to label predictions.\n",
    "    Y -- Actual label vector.\n",
    "    \"\"\"\n",
    "    \n",
    "    numExamples = Y.shape[1]\n",
    "    \n",
    "    cost = -(1 / numExamples) * np.sum(np.multiply(Y, np.log(Yhat)) + np.multiply(1 - Y, np.log(1 - Yhat)))\n",
    "    return np.squeeze(cost)"
   ]
  },
  {
   "cell_type": "code",
   "execution_count": 9,
   "metadata": {},
   "outputs": [],
   "source": [
    "def linear_backward(dZ, cache):\n",
    "    \"\"\"\n",
    "    Linear part of backwards propagation.\n",
    "    \n",
    "    Arguments:\n",
    "    dZ -- Derivative (gradient) of the cost with respect to the linear output of the current layer.\n",
    "    cache -- Tuple of values (A_prev, W, b) coming from forward propagation of the current layer.\n",
    "    \n",
    "    Returns:\n",
    "    dA_prev -- Derivative of the cost with respect to the activation of the previous layer.\n",
    "    dW -- Derivative of the cost with respect to the weights of the current layer.\n",
    "    db -- Derivative of the cost with respect to the bias of the current layer.\n",
    "    \"\"\"\n",
    "    \n",
    "    A_prev, W, b = cache\n",
    "    numExamples = A_prev.shape[1]\n",
    "    \n",
    "    dA_prev = np.dot(np.transpose(W), dZ)\n",
    "    dW = (1 / numExamples) * np.dot(dZ, np.transpose(A_prev))\n",
    "    db = (1 / numExamples) * np.sum(dZ, axis=1, keepdims=True)\n",
    "    \n",
    "    assert (dA_prev.shape == A_prev.shape)\n",
    "    assert (dW.shape == W.shape)\n",
    "    assert (db.shape == b.shape)\n",
    "    \n",
    "    return dA_prev, dW, db"
   ]
  },
  {
   "cell_type": "code",
   "execution_count": 10,
   "metadata": {},
   "outputs": [],
   "source": [
    "def linear_activation_backward(dA, cache, activation_backward):\n",
    "    linear_cache, activation_cache = cache\n",
    "    dZ = activation_backward(dA, activation_cache)\n",
    "    dA_prev, dW, db = linear_backward(dZ, linear_cache)\n",
    "    \n",
    "    return dA_prev, dW, db"
   ]
  },
  {
   "cell_type": "code",
   "execution_count": 11,
   "metadata": {},
   "outputs": [],
   "source": [
    "def sigmoid_backward(dA, Z):\n",
    "    s = 1 / (1 + np.exp(-Z))\n",
    "    dZ = dA * s * (1 - s)\n",
    "    return dZ\n",
    "\n",
    "def relu_backward(dA, Z):\n",
    "    dZ = np.array(dA, copy=True)\n",
    "    \n",
    "    # When Z <= 0, dZ should be 0 as well. \n",
    "    dZ[Z <= 0] = 0\n",
    "    \n",
    "    return dZ"
   ]
  },
  {
   "cell_type": "code",
   "execution_count": 12,
   "metadata": {},
   "outputs": [],
   "source": [
    "def model_backward(Yhat, Y, caches):\n",
    "    \"\"\"\n",
    "    Backward propagation for each layer (starts with the last layer).\n",
    "    \n",
    "    Arguments:\n",
    "    Yhat -- Probability vector. The output of forward propagation.\n",
    "    Y -- Labels.\n",
    "    caches -- List of caches captured from each forward propagation step.\n",
    "    \"\"\"\n",
    "    \n",
    "    gradients = {}\n",
    "    num_layers = len(caches)\n",
    "    num_examples = Yhat.shape[1]\n",
    "    Y = Y.reshape(Yhat.shape)\n",
    "    \n",
    "    # Derivative of the cost with respect to Yhat.\n",
    "    dYhat = -(np.divide(Y, Yhat) - np.divide(1 - Y, 1 - Yhat))\n",
    "    \n",
    "    # The last (sigmoid) layer.\n",
    "    current_cache = caches[num_layers - 1]\n",
    "    gradients['dA' + str(num_layers)], gradients['dW' + str(num_layers)], gradients['db' + str(num_layers)] = linear_activation_backward(dYhat, current_cache, sigmoid_backward)\n",
    "    \n",
    "    for l in reversed(range(num_layers - 1)):\n",
    "        current_cache = caches[l]\n",
    "        dA_prev_temp, dW_temp, db_temp = linear_activation_backward(gradients[\"dA\" + str(l + 2)], current_cache, relu_backward)\n",
    "        gradients['dA' + str(l + 1)] = dA_prev_temp\n",
    "        gradients['dW' + str(l + 1)] = dW_temp\n",
    "        gradients['db' + str(l + 1)] = db_temp\n",
    "    \n",
    "    return gradients"
   ]
  },
  {
   "cell_type": "code",
   "execution_count": 13,
   "metadata": {},
   "outputs": [],
   "source": [
    "def update_params(parameters, gradients, learning_rate):\n",
    "    num_layers = len(parameters) // 2\n",
    "    for l in range(num_layers):\n",
    "        parameters['W' + str(l + 1)] = parameters['W' + str(l + 1)] - learning_rate * gradients['dW' + str(l + 1)]\n",
    "        parameters['b' + str(l + 1)] = parameters['b' + str(l + 1)] - learning_rate * gradients['db' + str(l + 1)]\n",
    "    \n",
    "    return parameters"
   ]
  },
  {
   "cell_type": "code",
   "execution_count": 14,
   "metadata": {},
   "outputs": [],
   "source": [
    "def model(X, Y, layer_dimensions, learning_rate = 0.0075, num_iterations = 3000):\n",
    "    costs = []\n",
    "    parameters = initialize_params(layer_dimensions)\n",
    "    \n",
    "    # Gradient descent\n",
    "    for i in range(0, num_iterations):\n",
    "        # Forward propagation\n",
    "        Yhat, caches = model_forward(X, parameters)\n",
    "        \n",
    "        # Compute cost\n",
    "        cost = compute_cost(Yhat, Y)\n",
    "        \n",
    "        # Backward propagation\n",
    "        gradients = model_backward(Yhat, Y, caches)\n",
    "        \n",
    "        # Update parameters\n",
    "        parameters = update_params(parameters, gradients, learning_rate)\n",
    "        \n",
    "        costs.append(cost)\n",
    "        \n",
    "    # Plot the cost\n",
    "    plt.plot(np.squeeze(costs))\n",
    "    plt.ylabel('Cost')\n",
    "    plt.xlabel('Iterations')\n",
    "    plt.title(\"Learning rate =\" + str(learning_rate))\n",
    "    plt.show()\n",
    "    \n",
    "    return parameters"
   ]
  },
  {
   "cell_type": "code",
   "execution_count": 15,
   "metadata": {},
   "outputs": [
    {
     "data": {
      "image/png": "[encoded data removed]",
      "text/plain": [
       "<Figure size 432x288 with 1 Axes>"
      ]
     },
     "metadata": {
      "needs_background": "light"
     },
     "output_type": "display_data"
    }
   ],
   "source": [
    "parameters = model(training_inputs.T, training_labels.reshape(1, -1), [2, 3, 1])"
   ]
  }
 ],
 "metadata": {
  "kernelspec": {
   "display_name": "Python 3",
   "language": "python",
   "name": "python3"
  },
  "language_info": {
   "codemirror_mode": {
    "name": "ipython",
    "version": 3
   },
   "file_extension": ".py",
   "mimetype": "text/x-python",
   "name": "python",
   "nbconvert_exporter": "python",
   "pygments_lexer": "ipython3",
   "version": "3.7.2"
  }
 },
 "nbformat": 4,
 "nbformat_minor": 2
}
